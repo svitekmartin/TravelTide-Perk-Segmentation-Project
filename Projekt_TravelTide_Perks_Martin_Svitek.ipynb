{
  "nbformat": 4,
  "nbformat_minor": 0,
  "metadata": {
    "colab": {
      "provenance": []
    },
    "kernelspec": {
      "name": "python3",
      "display_name": "Python 3"
    },
    "language_info": {
      "name": "python"
    }
  },
  "cells": [
    {
      "cell_type": "code",
      "execution_count": null,
      "metadata": {
        "id": "qCGI5kkSQ8Jz"
      },
      "outputs": [],
      "source": [
        "import pandas as pd\n",
        "import matplotlib.pyplot as plt\n",
        "import seaborn as sns\n",
        "\n"
      ]
    },
    {
      "cell_type": "markdown",
      "source": [
        "**GOAL**\n",
        "1. Validate whether Elena’s suggested perks are attractive to users.\n",
        "2. Assign each user to a segment based on their likely preferred perk, using behavioral data.\n",
        "\n"
      ],
      "metadata": {
        "id": "O0qOv6PajtrU"
      }
    },
    {
      "cell_type": "markdown",
      "source": [
        "**Define the Cohort**\n",
        "\n",
        "Filter the sessions to only include:\n",
        "\n",
        "\n",
        "*   session_start >= 2023-01-04\n",
        "*   Group by user_id, count the number of sessions per user\n",
        "*   Keep only users with more than 7 sessions\n",
        "\n",
        "This ensures we're analyzing engaged users with meaningful behavior patterns.\n",
        "\n",
        "\n",
        "\n",
        "\n",
        "\n",
        "\n"
      ],
      "metadata": {
        "id": "B_x9ht5Ej6V0"
      }
    },
    {
      "cell_type": "markdown",
      "source": [
        "# **SQL Queries**\n",
        "\n",
        "**Cohort definition**\n",
        "\n",
        "\n",
        "\n",
        "\n"
      ],
      "metadata": {
        "id": "7x0vnDzDVLqM"
      }
    },
    {
      "cell_type": "code",
      "source": [
        "\n",
        "WITH session_counts AS (\n",
        "  SELECT user_id, COUNT(*) AS session_count\n",
        "  FROM sessions\n",
        "  WHERE session_start >= '2023-01-04'\n",
        "  GROUP BY user_id\n",
        ")\n",
        "SELECT *\n",
        "FROM users\n",
        "WHERE user_id IN (\n",
        "  SELECT user_id FROM session_counts WHERE session_count > 7\n",
        ");\n"
      ],
      "metadata": {
        "colab": {
          "base_uri": "https://localhost:8080/",
          "height": 108
        },
        "collapsed": true,
        "id": "364JWA3OWGKM",
        "outputId": "26d91f05-98c1-49fe-a360-9f528d1d7199"
      },
      "execution_count": null,
      "outputs": [
        {
          "output_type": "error",
          "ename": "SyntaxError",
          "evalue": "invalid syntax (<ipython-input-6-af276805f7c4>, line 1)",
          "traceback": [
            "\u001b[0;36m  File \u001b[0;32m\"<ipython-input-6-af276805f7c4>\"\u001b[0;36m, line \u001b[0;32m1\u001b[0m\n\u001b[0;31m    WITH session_counts AS (\u001b[0m\n\u001b[0m         ^\u001b[0m\n\u001b[0;31mSyntaxError\u001b[0m\u001b[0;31m:\u001b[0m invalid syntax\n"
          ]
        }
      ]
    },
    {
      "cell_type": "markdown",
      "source": [
        "# **Feature Engineering: Metrics by Perk**\n",
        "\n",
        "\n",
        "Metrics that act as behavioral signals for each of the five candidate perks.\n"
      ],
      "metadata": {
        "id": "Z1QDKAyHWyEC"
      }
    },
    {
      "cell_type": "markdown",
      "source": [
        "**Perk A) Free hotel meal**\n",
        "This query calculates how many distinct trips a user has booked with a hotel (hotel_bookings). It joins the hotels table to the sessions table, filters by sessions that started after January 4, 2023, and groups by user_id.\n"
      ],
      "metadata": {
        "id": "TfWOjy70YjlV"
      }
    },
    {
      "cell_type": "code",
      "source": [
        "SELECT user_id, COUNT(DISTINCT h.trip_id) AS hotel_bookings\n",
        "FROM hotels h\n",
        "JOIN sessions s ON h.trip_id = s.trip_id\n",
        "WHERE s.session_start >= '2023-01-04'\n",
        "GROUP BY user_id;\n"
      ],
      "metadata": {
        "id": "SM6NbU40WxvC"
      },
      "execution_count": null,
      "outputs": []
    },
    {
      "cell_type": "markdown",
      "source": [
        "**Perk B) Free checked bag**\n",
        "This query calculates the average number of checked bags (avg_checked_bags) per user. It joins the flights table with the sessions table, filters by sessions from January 4, 2023, onwards, and groups by user_id.\n"
      ],
      "metadata": {
        "id": "b9vRNcQEYxB-"
      }
    },
    {
      "cell_type": "code",
      "source": [
        "SELECT user_id, AVG(f.checked_bags) AS avg_checked_bags\n",
        "FROM flights f\n",
        "JOIN sessions s ON f.trip_id = s.trip_id\n",
        "WHERE s.session_start >= '2023-01-04'\n",
        "GROUP BY user_id;\n"
      ],
      "metadata": {
        "id": "RKNcCvl-Ytc_"
      },
      "execution_count": null,
      "outputs": []
    },
    {
      "cell_type": "markdown",
      "source": [
        "**Perk C) No cancellation fees**\n",
        "This query counts how many times a user has canceled a trip (cancel_count). It only includes sessions where the cancellation flag is TRUE.\n"
      ],
      "metadata": {
        "id": "b9Ank67UY9E9"
      }
    },
    {
      "cell_type": "code",
      "source": [
        "SELECT user_id, COUNT(*) AS cancel_count\n",
        "FROM sessions\n",
        "WHERE session_start >= '2023-01-04' AND cancellation = 1\n",
        "GROUP BY user_id;\n"
      ],
      "metadata": {
        "id": "VGxaOUfhY-Hj"
      },
      "execution_count": null,
      "outputs": []
    },
    {
      "cell_type": "markdown",
      "source": [
        "**Perk D) Exclusive discounts**\n",
        "This query calculates the rate at which users are exposed to flight and hotel discounts. It uses CASE statements to check if the flight or hotel discounts were offered (flight_discount and hotel_discount) and computes the average for each user.\n"
      ],
      "metadata": {
        "id": "SY1qz9gFZFfr"
      }
    },
    {
      "cell_type": "code",
      "source": [
        "SELECT user_id,\n",
        "       AVG(CASE WHEN flight_discount = 1 THEN 1 ELSE 0 END) AS flight_discount_rate,\n",
        "       AVG(CASE WHEN hotel_discount = 1 THEN 1 ELSE 0 END) AS hotel_discount_rate\n",
        "FROM sessions\n",
        "WHERE session_start >= '2023-01-04'\n",
        "GROUP BY user_id;\n"
      ],
      "metadata": {
        "id": "LG7-tZ8rZGNC"
      },
      "execution_count": null,
      "outputs": []
    },
    {
      "cell_type": "markdown",
      "source": [
        "**Perk E) 1 night free hotel with flight**\n",
        "This query counts the total trips (total_trips) and the trips where both flights and hotels were booked together (flight_and_hotel_trips) for each user. It joins the sessions table to the flights and hotels tables.\n"
      ],
      "metadata": {
        "id": "MzN1Wfm8ZR9Q"
      }
    },
    {
      "cell_type": "code",
      "source": [
        "SELECT user_id,\n",
        "       COUNT(DISTINCT s.trip_id) AS total_trips,\n",
        "       COUNT(DISTINCT CASE WHEN f.trip_id IS NOT NULL AND h.trip_id IS NOT NULL THEN s.trip_id END) AS flight_and_hotel_trips\n",
        "FROM sessions s\n",
        "LEFT JOIN flights f ON s.trip_id = f.trip_id\n",
        "LEFT JOIN hotels h ON s.trip_id = h.trip_id\n",
        "WHERE s.session_start >= '2023-01-04'\n",
        "GROUP BY user_id;\n"
      ],
      "metadata": {
        "id": "H47YlWNsZSnM"
      },
      "execution_count": null,
      "outputs": []
    },
    {
      "cell_type": "markdown",
      "source": [
        "\n",
        "# **Combine Metrics**\n",
        "\n",
        "**Version A) strict**\n",
        "We merge all perk-related metrics to form a user-level table for segmentation.\n",
        "\n",
        "Perk assignment logic: Based on the metrics we calculated in the CTEs, we use the GREATEST function to find the metric with the highest value for each user.\n"
      ],
      "metadata": {
        "id": "bHpRAxEtYgPB"
      }
    },
    {
      "cell_type": "code",
      "source": [
        "WITH hotel_bookings AS (\n",
        "    SELECT user_id, COUNT(DISTINCT h.trip_id) AS hotel_bookings\n",
        "    FROM hotels h\n",
        "    JOIN sessions s ON h.trip_id = s.trip_id\n",
        "    WHERE s.session_start >= '2023-01-04'\n",
        "    GROUP BY user_id\n",
        "),\n",
        "\n",
        "avg_checked_bags AS (\n",
        "    SELECT user_id, AVG(f.checked_bags) AS avg_checked_bags\n",
        "    FROM flights f\n",
        "    JOIN sessions s ON f.trip_id = s.trip_id\n",
        "    WHERE s.session_start >= '2023-01-04'\n",
        "    GROUP BY user_id\n",
        "),\n",
        "\n",
        "cancel_counts AS (\n",
        "    SELECT user_id, COUNT(*) AS cancel_count\n",
        "    FROM sessions\n",
        "    WHERE session_start >= '2023-01-04' AND cancellation = TRUE\n",
        "    GROUP BY user_id\n",
        "),\n",
        "\n",
        "discount_rates AS (\n",
        "    SELECT user_id,\n",
        "           AVG(CASE WHEN flight_discount THEN 1 ELSE 0 END) AS flight_discount_rate,\n",
        "           AVG(CASE WHEN hotel_discount THEN 1 ELSE 0 END) AS hotel_discount_rate\n",
        "    FROM sessions\n",
        "    WHERE session_start >= '2023-01-04'\n",
        "    GROUP BY user_id\n",
        "),\n",
        "\n",
        "combo_trips AS (\n",
        "    SELECT user_id,\n",
        "           COUNT(DISTINCT s.trip_id) AS total_trips,\n",
        "           COUNT(DISTINCT CASE WHEN f.trip_id IS NOT NULL AND h.trip_id IS NOT NULL THEN s.trip_id END) AS flight_and_hotel_trips\n",
        "    FROM sessions s\n",
        "    LEFT JOIN flights f ON s.trip_id = f.trip_id\n",
        "    LEFT JOIN hotels h ON s.trip_id = h.trip_id\n",
        "    WHERE s.session_start >= '2023-01-04'\n",
        "    GROUP BY user_id\n",
        ")\n",
        "\n",
        "SELECT\n",
        "    u.user_id,\n",
        "    COALESCE(hb.hotel_bookings, 0) AS hotel_bookings,\n",
        "    COALESCE(cb.avg_checked_bags, 0) AS avg_checked_bags,\n",
        "    COALESCE(cc.cancel_count, 0) AS cancel_count,\n",
        "    COALESCE(dr.flight_discount_rate, 0) AS flight_discount_rate,\n",
        "    COALESCE(dr.hotel_discount_rate, 0) AS hotel_discount_rate,\n",
        "    COALESCE(ct.flight_and_hotel_trips, 0) AS flight_and_hotel_trips,\n",
        "\n",
        "    -- 🏷️ Favorite Perk Assignment\n",
        "    CASE\n",
        "        WHEN GREATEST(\n",
        "            COALESCE(hb.hotel_bookings, 0),\n",
        "            COALESCE(cb.avg_checked_bags, 0),\n",
        "            COALESCE(cc.cancel_count, 0),\n",
        "            COALESCE(dr.flight_discount_rate + dr.hotel_discount_rate, 0),\n",
        "            COALESCE(ct.flight_and_hotel_trips, 0)\n",
        "        ) = COALESCE(hb.hotel_bookings, 0)\n",
        "        THEN 'Free hotel meal'\n",
        "\n",
        "        WHEN GREATEST(\n",
        "            COALESCE(hb.hotel_bookings, 0),\n",
        "            COALESCE(cb.avg_checked_bags, 0),\n",
        "            COALESCE(cc.cancel_count, 0),\n",
        "            COALESCE(dr.flight_discount_rate + dr.hotel_discount_rate, 0),\n",
        "            COALESCE(ct.flight_and_hotel_trips, 0)\n",
        "        ) = COALESCE(cb.avg_checked_bags, 0)\n",
        "        THEN 'Free checked bag'\n",
        "\n",
        "        WHEN GREATEST(\n",
        "            COALESCE(hb.hotel_bookings, 0),\n",
        "            COALESCE(cb.avg_checked_bags, 0),\n",
        "            COALESCE(cc.cancel_count, 0),\n",
        "            COALESCE(dr.flight_discount_rate + dr.hotel_discount_rate, 0),\n",
        "            COALESCE(ct.flight_and_hotel_trips, 0)\n",
        "        ) = COALESCE(cc.cancel_count, 0)\n",
        "        THEN 'No cancellation fees'\n",
        "\n",
        "        WHEN GREATEST(\n",
        "            COALESCE(hb.hotel_bookings, 0),\n",
        "            COALESCE(cb.avg_checked_bags, 0),\n",
        "            COALESCE(cc.cancel_count, 0),\n",
        "            COALESCE(dr.flight_discount_rate + dr.hotel_discount_rate, 0),\n",
        "            COALESCE(ct.flight_and_hotel_trips, 0)\n",
        "        ) = COALESCE(dr.flight_discount_rate + dr.hotel_discount_rate, 0)\n",
        "        THEN 'Exclusive discounts'\n",
        "\n",
        "        ELSE '1 night free hotel with flight'\n",
        "    END AS favorite_perk\n",
        "\n",
        "FROM (\n",
        "    SELECT user_id\n",
        "    FROM sessions\n",
        "    WHERE session_start >= '2023-01-04'\n",
        "    GROUP BY user_id\n",
        "    HAVING COUNT(*) > 7\n",
        ") u\n",
        "LEFT JOIN hotel_bookings hb ON u.user_id = hb.user_id\n",
        "LEFT JOIN avg_checked_bags cb ON u.user_id = cb.user_id\n",
        "LEFT JOIN cancel_counts cc ON u.user_id = cc.user_id\n",
        "LEFT JOIN discount_rates dr ON u.user_id = dr.user_id\n",
        "LEFT JOIN combo_trips ct ON u.user_id = ct.user_id;\n"
      ],
      "metadata": {
        "id": "9HisR9twaaAb"
      },
      "execution_count": null,
      "outputs": []
    },
    {
      "cell_type": "code",
      "source": [
        "from google.colab import files\n",
        "import pandas as pd\n",
        "\n",
        "uploaded = files.upload()"
      ],
      "metadata": {
        "colab": {
          "base_uri": "https://localhost:8080/",
          "height": 74
        },
        "id": "Q5XtOmBjSt2A",
        "outputId": "19ffd26f-ef8d-4cb8-8c71-83ef6287e443"
      },
      "execution_count": null,
      "outputs": [
        {
          "output_type": "display_data",
          "data": {
            "text/plain": [
              "<IPython.core.display.HTML object>"
            ],
            "text/html": [
              "\n",
              "     <input type=\"file\" id=\"files-525c4242-417b-4c3c-afd4-c99959e9c920\" name=\"files[]\" multiple disabled\n",
              "        style=\"border:none\" />\n",
              "     <output id=\"result-525c4242-417b-4c3c-afd4-c99959e9c920\">\n",
              "      Upload widget is only available when the cell has been executed in the\n",
              "      current browser session. Please rerun this cell to enable.\n",
              "      </output>\n",
              "      <script>// Copyright 2017 Google LLC\n",
              "//\n",
              "// Licensed under the Apache License, Version 2.0 (the \"License\");\n",
              "// you may not use this file except in compliance with the License.\n",
              "// You may obtain a copy of the License at\n",
              "//\n",
              "//      http://www.apache.org/licenses/LICENSE-2.0\n",
              "//\n",
              "// Unless required by applicable law or agreed to in writing, software\n",
              "// distributed under the License is distributed on an \"AS IS\" BASIS,\n",
              "// WITHOUT WARRANTIES OR CONDITIONS OF ANY KIND, either express or implied.\n",
              "// See the License for the specific language governing permissions and\n",
              "// limitations under the License.\n",
              "\n",
              "/**\n",
              " * @fileoverview Helpers for google.colab Python module.\n",
              " */\n",
              "(function(scope) {\n",
              "function span(text, styleAttributes = {}) {\n",
              "  const element = document.createElement('span');\n",
              "  element.textContent = text;\n",
              "  for (const key of Object.keys(styleAttributes)) {\n",
              "    element.style[key] = styleAttributes[key];\n",
              "  }\n",
              "  return element;\n",
              "}\n",
              "\n",
              "// Max number of bytes which will be uploaded at a time.\n",
              "const MAX_PAYLOAD_SIZE = 100 * 1024;\n",
              "\n",
              "function _uploadFiles(inputId, outputId) {\n",
              "  const steps = uploadFilesStep(inputId, outputId);\n",
              "  const outputElement = document.getElementById(outputId);\n",
              "  // Cache steps on the outputElement to make it available for the next call\n",
              "  // to uploadFilesContinue from Python.\n",
              "  outputElement.steps = steps;\n",
              "\n",
              "  return _uploadFilesContinue(outputId);\n",
              "}\n",
              "\n",
              "// This is roughly an async generator (not supported in the browser yet),\n",
              "// where there are multiple asynchronous steps and the Python side is going\n",
              "// to poll for completion of each step.\n",
              "// This uses a Promise to block the python side on completion of each step,\n",
              "// then passes the result of the previous step as the input to the next step.\n",
              "function _uploadFilesContinue(outputId) {\n",
              "  const outputElement = document.getElementById(outputId);\n",
              "  const steps = outputElement.steps;\n",
              "\n",
              "  const next = steps.next(outputElement.lastPromiseValue);\n",
              "  return Promise.resolve(next.value.promise).then((value) => {\n",
              "    // Cache the last promise value to make it available to the next\n",
              "    // step of the generator.\n",
              "    outputElement.lastPromiseValue = value;\n",
              "    return next.value.response;\n",
              "  });\n",
              "}\n",
              "\n",
              "/**\n",
              " * Generator function which is called between each async step of the upload\n",
              " * process.\n",
              " * @param {string} inputId Element ID of the input file picker element.\n",
              " * @param {string} outputId Element ID of the output display.\n",
              " * @return {!Iterable<!Object>} Iterable of next steps.\n",
              " */\n",
              "function* uploadFilesStep(inputId, outputId) {\n",
              "  const inputElement = document.getElementById(inputId);\n",
              "  inputElement.disabled = false;\n",
              "\n",
              "  const outputElement = document.getElementById(outputId);\n",
              "  outputElement.innerHTML = '';\n",
              "\n",
              "  const pickedPromise = new Promise((resolve) => {\n",
              "    inputElement.addEventListener('change', (e) => {\n",
              "      resolve(e.target.files);\n",
              "    });\n",
              "  });\n",
              "\n",
              "  const cancel = document.createElement('button');\n",
              "  inputElement.parentElement.appendChild(cancel);\n",
              "  cancel.textContent = 'Cancel upload';\n",
              "  const cancelPromise = new Promise((resolve) => {\n",
              "    cancel.onclick = () => {\n",
              "      resolve(null);\n",
              "    };\n",
              "  });\n",
              "\n",
              "  // Wait for the user to pick the files.\n",
              "  const files = yield {\n",
              "    promise: Promise.race([pickedPromise, cancelPromise]),\n",
              "    response: {\n",
              "      action: 'starting',\n",
              "    }\n",
              "  };\n",
              "\n",
              "  cancel.remove();\n",
              "\n",
              "  // Disable the input element since further picks are not allowed.\n",
              "  inputElement.disabled = true;\n",
              "\n",
              "  if (!files) {\n",
              "    return {\n",
              "      response: {\n",
              "        action: 'complete',\n",
              "      }\n",
              "    };\n",
              "  }\n",
              "\n",
              "  for (const file of files) {\n",
              "    const li = document.createElement('li');\n",
              "    li.append(span(file.name, {fontWeight: 'bold'}));\n",
              "    li.append(span(\n",
              "        `(${file.type || 'n/a'}) - ${file.size} bytes, ` +\n",
              "        `last modified: ${\n",
              "            file.lastModifiedDate ? file.lastModifiedDate.toLocaleDateString() :\n",
              "                                    'n/a'} - `));\n",
              "    const percent = span('0% done');\n",
              "    li.appendChild(percent);\n",
              "\n",
              "    outputElement.appendChild(li);\n",
              "\n",
              "    const fileDataPromise = new Promise((resolve) => {\n",
              "      const reader = new FileReader();\n",
              "      reader.onload = (e) => {\n",
              "        resolve(e.target.result);\n",
              "      };\n",
              "      reader.readAsArrayBuffer(file);\n",
              "    });\n",
              "    // Wait for the data to be ready.\n",
              "    let fileData = yield {\n",
              "      promise: fileDataPromise,\n",
              "      response: {\n",
              "        action: 'continue',\n",
              "      }\n",
              "    };\n",
              "\n",
              "    // Use a chunked sending to avoid message size limits. See b/62115660.\n",
              "    let position = 0;\n",
              "    do {\n",
              "      const length = Math.min(fileData.byteLength - position, MAX_PAYLOAD_SIZE);\n",
              "      const chunk = new Uint8Array(fileData, position, length);\n",
              "      position += length;\n",
              "\n",
              "      const base64 = btoa(String.fromCharCode.apply(null, chunk));\n",
              "      yield {\n",
              "        response: {\n",
              "          action: 'append',\n",
              "          file: file.name,\n",
              "          data: base64,\n",
              "        },\n",
              "      };\n",
              "\n",
              "      let percentDone = fileData.byteLength === 0 ?\n",
              "          100 :\n",
              "          Math.round((position / fileData.byteLength) * 100);\n",
              "      percent.textContent = `${percentDone}% done`;\n",
              "\n",
              "    } while (position < fileData.byteLength);\n",
              "  }\n",
              "\n",
              "  // All done.\n",
              "  yield {\n",
              "    response: {\n",
              "      action: 'complete',\n",
              "    }\n",
              "  };\n",
              "}\n",
              "\n",
              "scope.google = scope.google || {};\n",
              "scope.google.colab = scope.google.colab || {};\n",
              "scope.google.colab._files = {\n",
              "  _uploadFiles,\n",
              "  _uploadFilesContinue,\n",
              "};\n",
              "})(self);\n",
              "</script> "
            ]
          },
          "metadata": {}
        },
        {
          "output_type": "stream",
          "name": "stdout",
          "text": [
            "Saving user_perk_assignment.csv to user_perk_assignment.csv\n"
          ]
        }
      ]
    },
    {
      "cell_type": "code",
      "source": [],
      "metadata": {
        "id": "FikS2J9PU5d6"
      },
      "execution_count": null,
      "outputs": []
    },
    {
      "cell_type": "markdown",
      "source": [
        "**Perk** | *Metric*  **>>**  Logic\n",
        "\n",
        "\n",
        "*   **Free hotel meal** | *hotel_bookings* **>>** High hotel booking activity\n",
        "*   **Free checked bag** | *avg_checked_bags* **>>** High average number of checked bags\n",
        "*   **No cancellation fees** | *cancel_count* **>>** Frequent cancellers\n",
        "*   **Exclusive discounts** | *flight_discount_rate + hotel_discount_rate* **>>** Often exposed to or influenced by discounts\n",
        "*   **1 night free hotel with flight** | *flight_and_hotel_trips* **>>** Books both flights and hotels together often\n",
        "\n",
        "\n"
      ],
      "metadata": {
        "id": "tKbDp161aNz-"
      }
    },
    {
      "cell_type": "markdown",
      "source": [
        "\n",
        "# **Combine Metrics**\n",
        "\n",
        "**Version B) scale-based**\n",
        "\n",
        "A scale-based approach will give us more flexibility when users have the same score for two or more metrics, and it will allow us to prioritize which perk should be assigned if there is a tie.\n",
        "\n",
        "I merge all perk-related metrics to form a user-level table for segmentation.\n",
        "\n",
        "Perk assignment logic: Based on the metrics we calculated in the CTEs, we use the GREATEST function to find the metric with the highest value for each user.\n",
        "\n",
        "I´ll create a scale for each metric (e.g., hotel bookings, average checked bags, cancellation count, etc.), where users are given a score between 1 and 5 based on their performance in each area. The higher the value, the more likely the user is to prefer that perk.\n",
        "\n",
        "**For example:**\n",
        "*Hotel bookings*: If a user has 0 bookings, they get a score of 1. If they have 5 or more bookings, they get a score of 5, with a linear scale between them.\n",
        "\n",
        "*Checked bags*: If the average checked bags are 0, score them as 1. If it’s above a certain threshold, score them higher."
      ],
      "metadata": {
        "id": "NBh9gtsQU59n"
      }
    },
    {
      "cell_type": "code",
      "source": [
        "df = pd.read_csv('user_perk_assignment.csv')"
      ],
      "metadata": {
        "id": "8Eng_yAoS0Jy"
      },
      "execution_count": null,
      "outputs": []
    },
    {
      "cell_type": "code",
      "source": [
        "plt.figure(figsize=(10, 6))\n",
        "sns.countplot(data=df, y='favorite_perk', order=df['favorite_perk'].value_counts().index, palette='coolwarm')\n",
        "plt.title('Most Preferred Perks by Users')\n",
        "plt.xlabel('Number of Users')\n",
        "plt.ylabel('Favorite Perk')\n",
        "plt.tight_layout()\n",
        "plt.show()\n"
      ],
      "metadata": {
        "colab": {
          "base_uri": "https://localhost:8080/",
          "height": 716
        },
        "id": "naPhzERZS-Wn",
        "outputId": "ed787333-d5eb-48be-f640-9f007442adf7"
      },
      "execution_count": null,
      "outputs": [
        {
          "output_type": "stream",
          "name": "stderr",
          "text": [
            "<ipython-input-4-e85ae411ddd7>:2: FutureWarning: \n",
            "\n",
            "Passing `palette` without assigning `hue` is deprecated and will be removed in v0.14.0. Assign the `y` variable to `hue` and set `legend=False` for the same effect.\n",
            "\n",
            "  sns.countplot(data=df, y='favorite_perk', order=df['favorite_perk'].value_counts().index, palette='coolwarm')\n"
          ]
        },
        {
          "output_type": "display_data",
          "data": {
            "text/plain": [
              "<Figure size 1000x600 with 1 Axes>"
            ],
            "image/png": "[encoded data removed]"
          },
          "metadata": {}
        }
      ]
    },
    {
      "cell_type": "code",
      "source": [
        "from google.colab import files\n",
        "import pandas as pd\n",
        "\n",
        "uploaded = files.upload()"
      ],
      "metadata": {
        "colab": {
          "base_uri": "https://localhost:8080/",
          "height": 74
        },
        "id": "OxE5ajg9hMgp",
        "outputId": "1e4895d0-ae6d-4876-b3a7-edca28b0c6e4"
      },
      "execution_count": null,
      "outputs": [
        {
          "output_type": "display_data",
          "data": {
            "text/plain": [
              "<IPython.core.display.HTML object>"
            ],
            "text/html": [
              "\n",
              "     <input type=\"file\" id=\"files-609446a5-b854-48bd-a7a9-239c409de9e5\" name=\"files[]\" multiple disabled\n",
              "        style=\"border:none\" />\n",
              "     <output id=\"result-609446a5-b854-48bd-a7a9-239c409de9e5\">\n",
              "      Upload widget is only available when the cell has been executed in the\n",
              "      current browser session. Please rerun this cell to enable.\n",
              "      </output>\n",
              "      <script>// Copyright 2017 Google LLC\n",
              "//\n",
              "// Licensed under the Apache License, Version 2.0 (the \"License\");\n",
              "// you may not use this file except in compliance with the License.\n",
              "// You may obtain a copy of the License at\n",
              "//\n",
              "//      http://www.apache.org/licenses/LICENSE-2.0\n",
              "//\n",
              "// Unless required by applicable law or agreed to in writing, software\n",
              "// distributed under the License is distributed on an \"AS IS\" BASIS,\n",
              "// WITHOUT WARRANTIES OR CONDITIONS OF ANY KIND, either express or implied.\n",
              "// See the License for the specific language governing permissions and\n",
              "// limitations under the License.\n",
              "\n",
              "/**\n",
              " * @fileoverview Helpers for google.colab Python module.\n",
              " */\n",
              "(function(scope) {\n",
              "function span(text, styleAttributes = {}) {\n",
              "  const element = document.createElement('span');\n",
              "  element.textContent = text;\n",
              "  for (const key of Object.keys(styleAttributes)) {\n",
              "    element.style[key] = styleAttributes[key];\n",
              "  }\n",
              "  return element;\n",
              "}\n",
              "\n",
              "// Max number of bytes which will be uploaded at a time.\n",
              "const MAX_PAYLOAD_SIZE = 100 * 1024;\n",
              "\n",
              "function _uploadFiles(inputId, outputId) {\n",
              "  const steps = uploadFilesStep(inputId, outputId);\n",
              "  const outputElement = document.getElementById(outputId);\n",
              "  // Cache steps on the outputElement to make it available for the next call\n",
              "  // to uploadFilesContinue from Python.\n",
              "  outputElement.steps = steps;\n",
              "\n",
              "  return _uploadFilesContinue(outputId);\n",
              "}\n",
              "\n",
              "// This is roughly an async generator (not supported in the browser yet),\n",
              "// where there are multiple asynchronous steps and the Python side is going\n",
              "// to poll for completion of each step.\n",
              "// This uses a Promise to block the python side on completion of each step,\n",
              "// then passes the result of the previous step as the input to the next step.\n",
              "function _uploadFilesContinue(outputId) {\n",
              "  const outputElement = document.getElementById(outputId);\n",
              "  const steps = outputElement.steps;\n",
              "\n",
              "  const next = steps.next(outputElement.lastPromiseValue);\n",
              "  return Promise.resolve(next.value.promise).then((value) => {\n",
              "    // Cache the last promise value to make it available to the next\n",
              "    // step of the generator.\n",
              "    outputElement.lastPromiseValue = value;\n",
              "    return next.value.response;\n",
              "  });\n",
              "}\n",
              "\n",
              "/**\n",
              " * Generator function which is called between each async step of the upload\n",
              " * process.\n",
              " * @param {string} inputId Element ID of the input file picker element.\n",
              " * @param {string} outputId Element ID of the output display.\n",
              " * @return {!Iterable<!Object>} Iterable of next steps.\n",
              " */\n",
              "function* uploadFilesStep(inputId, outputId) {\n",
              "  const inputElement = document.getElementById(inputId);\n",
              "  inputElement.disabled = false;\n",
              "\n",
              "  const outputElement = document.getElementById(outputId);\n",
              "  outputElement.innerHTML = '';\n",
              "\n",
              "  const pickedPromise = new Promise((resolve) => {\n",
              "    inputElement.addEventListener('change', (e) => {\n",
              "      resolve(e.target.files);\n",
              "    });\n",
              "  });\n",
              "\n",
              "  const cancel = document.createElement('button');\n",
              "  inputElement.parentElement.appendChild(cancel);\n",
              "  cancel.textContent = 'Cancel upload';\n",
              "  const cancelPromise = new Promise((resolve) => {\n",
              "    cancel.onclick = () => {\n",
              "      resolve(null);\n",
              "    };\n",
              "  });\n",
              "\n",
              "  // Wait for the user to pick the files.\n",
              "  const files = yield {\n",
              "    promise: Promise.race([pickedPromise, cancelPromise]),\n",
              "    response: {\n",
              "      action: 'starting',\n",
              "    }\n",
              "  };\n",
              "\n",
              "  cancel.remove();\n",
              "\n",
              "  // Disable the input element since further picks are not allowed.\n",
              "  inputElement.disabled = true;\n",
              "\n",
              "  if (!files) {\n",
              "    return {\n",
              "      response: {\n",
              "        action: 'complete',\n",
              "      }\n",
              "    };\n",
              "  }\n",
              "\n",
              "  for (const file of files) {\n",
              "    const li = document.createElement('li');\n",
              "    li.append(span(file.name, {fontWeight: 'bold'}));\n",
              "    li.append(span(\n",
              "        `(${file.type || 'n/a'}) - ${file.size} bytes, ` +\n",
              "        `last modified: ${\n",
              "            file.lastModifiedDate ? file.lastModifiedDate.toLocaleDateString() :\n",
              "                                    'n/a'} - `));\n",
              "    const percent = span('0% done');\n",
              "    li.appendChild(percent);\n",
              "\n",
              "    outputElement.appendChild(li);\n",
              "\n",
              "    const fileDataPromise = new Promise((resolve) => {\n",
              "      const reader = new FileReader();\n",
              "      reader.onload = (e) => {\n",
              "        resolve(e.target.result);\n",
              "      };\n",
              "      reader.readAsArrayBuffer(file);\n",
              "    });\n",
              "    // Wait for the data to be ready.\n",
              "    let fileData = yield {\n",
              "      promise: fileDataPromise,\n",
              "      response: {\n",
              "        action: 'continue',\n",
              "      }\n",
              "    };\n",
              "\n",
              "    // Use a chunked sending to avoid message size limits. See b/62115660.\n",
              "    let position = 0;\n",
              "    do {\n",
              "      const length = Math.min(fileData.byteLength - position, MAX_PAYLOAD_SIZE);\n",
              "      const chunk = new Uint8Array(fileData, position, length);\n",
              "      position += length;\n",
              "\n",
              "      const base64 = btoa(String.fromCharCode.apply(null, chunk));\n",
              "      yield {\n",
              "        response: {\n",
              "          action: 'append',\n",
              "          file: file.name,\n",
              "          data: base64,\n",
              "        },\n",
              "      };\n",
              "\n",
              "      let percentDone = fileData.byteLength === 0 ?\n",
              "          100 :\n",
              "          Math.round((position / fileData.byteLength) * 100);\n",
              "      percent.textContent = `${percentDone}% done`;\n",
              "\n",
              "    } while (position < fileData.byteLength);\n",
              "  }\n",
              "\n",
              "  // All done.\n",
              "  yield {\n",
              "    response: {\n",
              "      action: 'complete',\n",
              "    }\n",
              "  };\n",
              "}\n",
              "\n",
              "scope.google = scope.google || {};\n",
              "scope.google.colab = scope.google.colab || {};\n",
              "scope.google.colab._files = {\n",
              "  _uploadFiles,\n",
              "  _uploadFilesContinue,\n",
              "};\n",
              "})(self);\n",
              "</script> "
            ]
          },
          "metadata": {}
        },
        {
          "output_type": "stream",
          "name": "stdout",
          "text": [
            "Saving user_perk_assignment_5scale.csv to user_perk_assignment_5scale.csv\n"
          ]
        }
      ]
    },
    {
      "cell_type": "code",
      "source": [
        "df = pd.read_csv('user_perk_assignment_5scale.csv')\n"
      ],
      "metadata": {
        "id": "vrJpHc04hI9Y"
      },
      "execution_count": null,
      "outputs": []
    },
    {
      "cell_type": "code",
      "source": [
        "plt.figure(figsize=(10, 6))\n",
        "sns.countplot(data=df, y='favorite_perk', order=df['favorite_perk'].value_counts().index, palette='coolwarm')\n",
        "plt.title('Most Preferred Perks by Users')\n",
        "plt.xlabel('Number of Users')\n",
        "plt.ylabel('Favorite Perk')\n",
        "plt.tight_layout()\n",
        "plt.show()"
      ],
      "metadata": {
        "colab": {
          "base_uri": "https://localhost:8080/",
          "height": 716
        },
        "id": "0u7KHH0PhWtE",
        "outputId": "bb2d942c-54af-4eda-d5e2-4a63227429ef"
      },
      "execution_count": null,
      "outputs": [
        {
          "output_type": "stream",
          "name": "stderr",
          "text": [
            "<ipython-input-9-e85ae411ddd7>:2: FutureWarning: \n",
            "\n",
            "Passing `palette` without assigning `hue` is deprecated and will be removed in v0.14.0. Assign the `y` variable to `hue` and set `legend=False` for the same effect.\n",
            "\n",
            "  sns.countplot(data=df, y='favorite_perk', order=df['favorite_perk'].value_counts().index, palette='coolwarm')\n"
          ]
        },
        {
          "output_type": "display_data",
          "data": {
            "text/plain": [
              "<Figure size 1000x600 with 1 Axes>"
            ],
            "image/png": "[encoded data removed]"
          },
          "metadata": {}
        }
      ]
    },
    {
      "cell_type": "markdown",
      "source": [
        "\n",
        "Recomandation\n",
        "\n"
      ],
      "metadata": {
        "id": "Edl5mYDkmZQY"
      }
    },
    {
      "cell_type": "code",
      "source": [],
      "metadata": {
        "id": "wY33rJGEmZBR"
      },
      "execution_count": null,
      "outputs": []
    }
  ]
}
